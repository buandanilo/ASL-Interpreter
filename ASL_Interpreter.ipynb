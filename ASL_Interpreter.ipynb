{
 "cells": [
  {
   "cell_type": "markdown",
   "id": "5b530222",
   "metadata": {},
   "source": [
    "# CPE018 Final Project (1st Sem, A.Y. 2023-2024)"
   ]
  },
  {
   "cell_type": "markdown",
   "id": "c662855b",
   "metadata": {},
   "source": [
    "Student Group Details: \n",
    "* Name: Danilo Jr. G. Buan, Marlv Andrei Tugadi, Yuri Nollan\n",
    "* Section: CPE31S3\n",
    "* Schedule: Saturday : 10:30 - 1:30\n",
    "* Instructor:Engr. Roman M. Richard"
   ]
  },
  {
   "cell_type": "markdown",
   "id": "565d988c",
   "metadata": {},
   "source": [
    "# Final Code"
   ]
  },
  {
   "cell_type": "code",
   "execution_count": 3,
   "id": "fa8c442c",
   "metadata": {},
   "outputs": [
    {
     "ename": "ModuleNotFoundError",
     "evalue": "No module named 'mediapipe'",
     "output_type": "error",
     "traceback": [
      "\u001b[1;31m---------------------------------------------------------------------------\u001b[0m",
      "\u001b[1;31mModuleNotFoundError\u001b[0m                       Traceback (most recent call last)",
      "Cell \u001b[1;32mIn[3], line 2\u001b[0m\n\u001b[0;32m      1\u001b[0m \u001b[38;5;28;01mimport\u001b[39;00m \u001b[38;5;21;01mcv2\u001b[39;00m\n\u001b[1;32m----> 2\u001b[0m \u001b[38;5;28;01mimport\u001b[39;00m \u001b[38;5;21;01mmediapipe\u001b[39;00m \u001b[38;5;28;01mas\u001b[39;00m \u001b[38;5;21;01mmp\u001b[39;00m\n\u001b[0;32m      4\u001b[0m cap \u001b[38;5;241m=\u001b[39m cv2\u001b[38;5;241m.\u001b[39mVideoCapture(\u001b[38;5;241m0\u001b[39m)\n\u001b[0;32m      5\u001b[0m mp_Hands \u001b[38;5;241m=\u001b[39m mp\u001b[38;5;241m.\u001b[39msolutions\u001b[38;5;241m.\u001b[39mhands\n",
      "\u001b[1;31mModuleNotFoundError\u001b[0m: No module named 'mediapipe'"
     ]
    }
   ],
   "source": [
    "import cv2\n",
    "import mediapipe as mp\n",
    "\n",
    "cap = cv2.VideoCapture(0)\n",
    "mp_Hands = mp.solutions.hands\n",
    "hands = mp_Hands.Hands()\n",
    "mpDraw = mp.solutions.drawing_utils\n",
    "\n",
    "while True:\n",
    "    success, image = cap.read()\n",
    "    image = cv2.flip(image, 1)\n",
    "    RGB_image = cv2.cvtColor(image, cv2.COLOR_BGR2RGB)\n",
    "    results = hands.process(RGB_image)\n",
    "    multiLandMarks = results.multi_hand_landmarks\n",
    "\n",
    "    if multiLandMarks:\n",
    "        handList = []\n",
    "        detected_letter = None\n",
    "\n",
    "        for handLms in multiLandMarks:\n",
    "            mpDraw.draw_landmarks(image, handLms, mp_Hands.HAND_CONNECTIONS)\n",
    "            for idx, lm in enumerate(handLms.landmark):\n",
    "                h, w, c = image.shape\n",
    "                cx, cy = int(lm.x * w), int(lm.y * h)\n",
    "                handList.append((cx, cy))\n",
    "                cv2.circle(image, (cx, cy), 5, (255, 0, 0), cv2.FILLED)\n",
    "\n",
    "        # Debugging output: Print detected landmarks\n",
    "        #print(\"Detected Landmarks:\")\n",
    "        #for i, point in enumerate(handList):\n",
    "        #    print(f\"Landmark {i}: {point}\")\n",
    "\n",
    "\n",
    "        if all(handList[4][1] < handList[i][1] for i in range(0, 21) if i != 4):\n",
    "            detected_letter = 'A'\n",
    "\n",
    "        if (\n",
    "                handList[12][0] > handList[8][0] and\n",
    "                handList[16][0] > handList[8][0] and\n",
    "                handList[20][0] > handList[4][0]\n",
    "        ):\n",
    "            detected_letter = 'B'\n",
    "\n",
    "        if (\n",
    "                handList[8][0] < handList[6][0] and\n",
    "                handList[12][0] < handList[10][0] and\n",
    "                handList[16][0] < handList[14][0] and\n",
    "                handList[20][0] < handList[18][0]\n",
    "        ):\n",
    "            detected_letter = 'C'\n",
    "\n",
    "        if all(handList[8][1] < handList[i][1] for i in range(0, 21) if i != 8):\n",
    "            detected_letter = 'D'\n",
    "\n",
    "\n",
    "        if all(handList[i][1] < handList[j][1] for i, j in zip([6, 10, 14, 18], [8, 12, 16, 20])):\n",
    "            detected_letter = 'A'\n",
    "\n",
    "\n",
    "            if handList[4][1] > min(handList[i][1] for i in range(0, 21) if i not in [4]):\n",
    "                detected_letter = 'E'\n",
    "\n",
    "        if detected_letter:\n",
    "            cv2.putText(image, f'Detected Letters: {detected_letter}', (10, 50), cv2.FONT_HERSHEY_SIMPLEX, 1, (255, 0, 0), 2)\n",
    "\n",
    "\n",
    "    flipped_image = cv2.flip(image, 1)\n",
    "\n",
    "    cv2.imshow(\"Sign Language Interpreter\", image)\n",
    "    key = cv2.waitKey(1)\n",
    "\n",
    "    if key == 27:\n",
    "        break\n",
    "\n",
    "cap.release()\n",
    "cv2.destroyAllWindows()\n"
   ]
  }
 ],
 "metadata": {
  "kernelspec": {
   "display_name": "Python 3 (ipykernel)",
   "language": "python",
   "name": "python3"
  },
  "language_info": {
   "codemirror_mode": {
    "name": "ipython",
    "version": 3
   },
   "file_extension": ".py",
   "mimetype": "text/x-python",
   "name": "python",
   "nbconvert_exporter": "python",
   "pygments_lexer": "ipython3",
   "version": "3.11.5"
  }
 },
 "nbformat": 4,
 "nbformat_minor": 5
}
